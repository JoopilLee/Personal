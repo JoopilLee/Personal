{
 "cells": [
  {
   "cell_type": "code",
   "execution_count": 9,
   "metadata": {},
   "outputs": [
    {
     "data": {
      "text/plain": [
       "'3.141.0'"
      ]
     },
     "execution_count": 9,
     "metadata": {},
     "output_type": "execute_result"
    }
   ],
   "source": [
    "import selenium\n",
    "selenium.__version__"
   ]
  },
  {
   "attachments": {},
   "cell_type": "markdown",
   "metadata": {},
   "source": [
    "# 전체왕 Crawling"
   ]
  },
  {
   "cell_type": "code",
   "execution_count": null,
   "metadata": {},
   "outputs": [],
   "source": [
    "# 왕전체\n",
    "\n",
    "from selenium.webdriver import Chrome\n",
    "from selenium.webdriver.common.by import By\n",
    "import time\n",
    "\n",
    "driver = Chrome('chromedriver.exe')\n",
    "\n",
    "timesleep=0.5\n",
    "\n",
    "time.sleep(1)\n",
    "url = 'https://sillok.history.go.kr/main/main.do'\n",
    "driver.get(url)\n",
    "\n",
    "time.sleep(1)\n",
    "for i in range(97, 123): \n",
    "    \n",
    "    if chr(i) == 'o': # 광해군: 중초본/정초본 모두 사용\n",
    "        for j in ['a', 'b']:\n",
    "            btn = driver.find_element(By.XPATH, f'//a[contains(@href,\"javascript:search(\\'ko{j}\\')\")]')\n",
    "            btn.click()\n",
    "            for l in range(1,53): # 연도 - 최장기간 영조 52년\n",
    "                for i in range(1,13): # 월 최대 12월\n",
    "                    try: \n",
    "                        driver.find_element(By.XPATH, f'//*[@id=\"cont_area\"]/div/div[2]/ul[2]/li[{l}]/ul/li[{i}]/a').click() # l년 i월 클릭 \n",
    "                        time.sleep(timesleep) \n",
    "                        main = driver.find_element(By.CLASS_NAME, 'ins_list_main') \n",
    "                        silok = main.find_element(By.TAG_NAME,'dd').text\n",
    "                        print(silok)\n",
    "                        time.sleep(timesleep)\n",
    "\n",
    "                        back = driver.find_element(By.XPATH, f'//*[@id=\"cont_area\"]/div[1]/ul/li[3]/a')\n",
    "                        \n",
    "                        with open(f\"{back.text}.txt\",'a',encoding='utf-8') as file:\n",
    "                            file.write(silok)\n",
    "                            file.write(\",\\n\")\n",
    "\n",
    "                        back.click() # 뒤로 가기\n",
    "                    except:\n",
    "                        print(f'error:{l}년 {i}번째 월')\n",
    "                        break\n",
    "            driver.find_element(By.XPATH, f'//*[@id=\"topSearchForm\"]/div/a[1]/img').click()\n",
    "            time.sleep(1)\n",
    "\n",
    "\n",
    "    elif chr(i) == 'z': # 고종, 순종, 순종부록\n",
    "        for k in ['a', 'b', 'c']:\n",
    "            btn = driver.find_element(By.XPATH, f'//a[contains(@href,\"javascript:search(\\'kz{k}\\')\")]')\n",
    "            btn.click()\n",
    "            for l in range(1,53): # 연도 - 최장기간 영조 52년\n",
    "                for i in range(1,13): # 월 최대 12월\n",
    "                    try: \n",
    "                        driver.find_element(By.XPATH, f'//*[@id=\"cont_area\"]/div/div[2]/ul[2]/li[{l}]/ul/li[{i}]/a').click() # l년 i월 클릭 \n",
    "                        time.sleep(timesleep) \n",
    "                        main = driver.find_element(By.CLASS_NAME, 'ins_list_main') \n",
    "                        silok = main.find_element(By.TAG_NAME,'dd').text\n",
    "                        print(silok)\n",
    "                        time.sleep(timesleep)\n",
    "\n",
    "                        back = driver.find_element(By.XPATH, f'//*[@id=\"cont_area\"]/div[1]/ul/li[3]/a')\n",
    "                        \n",
    "                        with open(f\"{back.text}.txt\",'a',encoding='utf-8') as file:\n",
    "                            file.write(silok)\n",
    "                            file.write(\",\\n\")\n",
    "\n",
    "                        back.click() # 뒤로 가기\n",
    "                    except:\n",
    "                        print(f'error:{l}년 {i}번째 월')\n",
    "                        break\n",
    "            driver.find_element(By.XPATH, f'//*[@id=\"topSearchForm\"]/div/a[1]/img').click()\n",
    "            time.sleep(1)\n",
    "\n",
    "    \n",
    "    else:\n",
    "        \n",
    "        if chr(i) in ['n', 'r', 's', 't']: # 선조, 현종, 숙종, 경종: 수정본만 사용\n",
    "            btn = driver.find_element(By.XPATH, f'//a[contains(@href,\"javascript:search(\\'k{chr(i)}b\\')\")]')\n",
    "            btn.click()\n",
    "            for l in range(1,53): # 연도 - 최장기간 영조 52년\n",
    "                for i in range(1,13): # 월 최대 12월\n",
    "                    try: \n",
    "                        driver.find_element(By.XPATH, f'//*[@id=\"cont_area\"]/div/div[2]/ul[2]/li[{l}]/ul/li[{i}]/a').click() # l년 i월 클릭 \n",
    "                        time.sleep(timesleep) \n",
    "                        main = driver.find_element(By.CLASS_NAME, 'ins_list_main') \n",
    "                        silok = main.find_element(By.TAG_NAME,'dd').text\n",
    "                        print(silok)\n",
    "                        time.sleep(timesleep)\n",
    "\n",
    "                        back = driver.find_element(By.XPATH, f'//*[@id=\"cont_area\"]/div[1]/ul/li[3]/a')\n",
    "                        \n",
    "                        with open(f\"{back.text}.txt\",'a',encoding='utf-8') as file:\n",
    "                            file.write(silok)\n",
    "                            file.write(\",\\n\")\n",
    "\n",
    "                        back.click() # 뒤로 가기\n",
    "                    except:\n",
    "                        print(f'error:{l}년 {i}번째 월')\n",
    "                        break\n",
    "            driver.find_element(By.XPATH, f'//*[@id=\"topSearchForm\"]/div/a[1]/img').click()\n",
    "            time.sleep(1)\n",
    "        \n",
    "        else:\n",
    "            btn = driver.find_element(By.XPATH, f'//a[contains(@href,\"javascript:search(\\'k{chr(i)}a\\')\")]')\n",
    "            btn.click()\n",
    "            for l in range(1,53): # 연도 - 최장기간 영조 52년\n",
    "                for i in range(1,13): # 월 최대 12월\n",
    "                    try: \n",
    "                        driver.find_element(By.XPATH, f'//*[@id=\"cont_area\"]/div/div[2]/ul[2]/li[{l}]/ul/li[{i}]/a').click() # l년 i월 클릭 \n",
    "                        time.sleep(timesleep) \n",
    "                        main = driver.find_element(By.CLASS_NAME, 'ins_list_main') \n",
    "                        silok = main.find_element(By.TAG_NAME,'dd').text\n",
    "                        print(silok)\n",
    "                        time.sleep(timesleep)\n",
    "\n",
    "                        back = driver.find_element(By.XPATH, f'//*[@id=\"cont_area\"]/div[1]/ul/li[3]/a')\n",
    "                        \n",
    "                        with open(f\"{back.text}.txt\",'a',encoding='utf-8') as file:\n",
    "                            file.write(silok)\n",
    "                            file.write(\",\\n\")\n",
    "\n",
    "                        back.click() # 뒤로 가기\n",
    "                    except:\n",
    "                        print(f'error:{l}년 {i}번째 월')\n",
    "                        break\n",
    "            driver.find_element(By.XPATH, f'//*[@id=\"topSearchForm\"]/div/a[1]/img').click()\n",
    "            time.sleep(1)\n",
    "\n",
    "driver.close()"
   ]
  },
  {
   "attachments": {},
   "cell_type": "markdown",
   "metadata": {},
   "source": [
    "# analysis"
   ]
  },
  {
   "cell_type": "code",
   "execution_count": null,
   "metadata": {},
   "outputs": [],
   "source": [
    "# module import\n",
    "from konlpy.tag import Kkma\n",
    "import matplotlib.pyplot as plt # pip 먼저 설치\n",
    "from matplotlib import font_manager, rc\n",
    "from wordcloud import WordCloud \n",
    "from collections import Counter # 빈도분석에 사용 \n",
    "import numpy as np  \n",
    "from PIL import Image\n",
    "from wordcloud import ImageColorGenerator"
   ]
  },
  {
   "cell_type": "code",
   "execution_count": null,
   "metadata": {},
   "outputs": [],
   "source": [
    "# step1. 데이터 불러와서 띄어쓰기 기준으로 단어 분리\n",
    "data1 = open('왕_txt/king_prepro.txt', encoding = 'utf-8').read()\n",
    "data2 = []\n",
    "\n",
    "for i in data1.split('\\n'):\n",
    "    for j in i.split(' '):\n",
    "        data2.append(j)\n",
    "data2"
   ]
  },
  {
   "cell_type": "code",
   "execution_count": null,
   "metadata": {},
   "outputs": [],
   "source": [
    "# step2. 불용어 제거\n",
    "\n",
    "stop_words = open(\"stopwords.txt\",encoding ='utf-8').read() \n",
    "data2 = [each_word for each_word in data2\n",
    "            if each_word not in stop_words] # 불러온 단어가 모두 삭제될 때까지 for문 반복\n",
    "\n",
    "from collections import Counter\n",
    "data3 = Counter(data2)\n",
    "data4={}\n",
    "for k in dict(data3):\n",
    "    if len(k) >=2 | len(k) <= 10:\n",
    "        data4[k] = dict(data3)[k]\n",
    "data4"
   ]
  },
  {
   "cell_type": "code",
   "execution_count": null,
   "metadata": {},
   "outputs": [],
   "source": [
    "# 단어별 빈도수 확인하기\n",
    "data5 = Counter(data4) \n",
    "data6 = data5.most_common(500) # 가장 많이 언급된 500개 보기 \n",
    "tmp_data = dict(data6) \n",
    "tmp_data"
   ]
  },
  {
   "cell_type": "code",
   "execution_count": null,
   "metadata": {},
   "outputs": [],
   "source": [
    "# 그림의 모양대로 워드클라우드 그리기\n",
    "king_mask = np.array(Image.open(\"king.jpg\"))  # 마스킹한다 = 그림(모양)을 바꾸는 것 \n",
    "wc = WordCloud(font_path = '/Library/Fonts/AppleGothic.ttf',\n",
    "               relative_scaling = 0.75, mask = king_mask,\n",
    "               background_color = 'white',\n",
    "               min_font_size = 5, \n",
    "               max_font_size = 70,\n",
    "               max_words = 500,\n",
    "               ).generate_from_frequencies(tmp_data)\n",
    "plt.figure(figsize=(10,10))\n",
    "plt.imshow(wc)\n",
    "plt.axis(\"off\")\n",
    "plt.show()"
   ]
  },
  {
   "attachments": {},
   "cell_type": "markdown",
   "metadata": {},
   "source": [
    "# 연산군 analysis"
   ]
  },
  {
   "cell_type": "code",
   "execution_count": null,
   "metadata": {},
   "outputs": [],
   "source": [
    "data1 = open('세종실록.txt', encoding = 'utf-8').read()\n",
    "data2 = []\n",
    "\n",
    "for i in data1.split('\\n'):\n",
    "    for j in i.split(' '):\n",
    "        data2.append(j)\n",
    "data2"
   ]
  },
  {
   "cell_type": "code",
   "execution_count": null,
   "metadata": {},
   "outputs": [],
   "source": [
    "# step3. 불용어 제거\n",
    "# stop_words = open(\"stopwords.txt\",encoding ='utf-8').read() \n",
    "# dd_3 = [each_word for each_word in dd_3\n",
    "#             if each_word not in stop_words] # 불러온 단어가 모두 삭제될 때까지 for문 반복\n",
    "# dd_3\n",
    "from collections import Counter\n",
    "data3 = Counter(data2)\n",
    "data4={}\n",
    "for k in dict(data3):\n",
    "    if len(k) >=2 | len(k) <= 10:\n",
    "        data4[k] = dict(data3)[k]\n",
    "data4"
   ]
  },
  {
   "cell_type": "code",
   "execution_count": null,
   "metadata": {},
   "outputs": [],
   "source": [
    "# step4. 단어 별 빈도수 집계하기 \n",
    "data5 = Counter(data4) \n",
    "data6 = data5.most_common(100) # 가장 많이 언급된 100개만 보기 \n",
    "tmp_data = dict(data6) \n",
    "tmp_data"
   ]
  },
  {
   "cell_type": "code",
   "execution_count": null,
   "metadata": {},
   "outputs": [],
   "source": [
    "# 그림의 모양대로 워드클라우드 그리기\n",
    "from konlpy.tag import Kkma\n",
    "import matplotlib.pyplot as plt # pip 먼저 설치\n",
    "from matplotlib import font_manager, rc\n",
    "from wordcloud import WordCloud \n",
    "# wordcloud 설치할때 setuptools 에러나면 아래 코드 실행후 재실행\n",
    "# pip install -U pip setuptools \n",
    "\n",
    "from collections import Counter # 빈도분석에 사용 \n",
    "import numpy as np  \n",
    "from PIL import Image\n",
    "from wordcloud import ImageColorGenerator\n",
    "king_mask = np.array(Image.open(\"sejong.png\"))  # 마스킹한다 = 그림(모양)을 바꾸는 것 \n",
    "wc = WordCloud(font_path = '/Library/Fonts/AppleGothic.ttf',\n",
    "               relative_scaling = 0.65, mask = king_mask,\n",
    "               background_color = 'white',\n",
    "               min_font_size = .5, \n",
    "               max_font_size = 70,\n",
    "               max_words = 100,\n",
    "               ).generate_from_frequencies(tmp_data)\n",
    "plt.figure(figsize=(8,10))\n",
    "plt.imshow(wc)\n",
    "plt.axis(\"off\")\n",
    "plt.show()"
   ]
  }
 ],
 "metadata": {
  "kernelspec": {
   "display_name": "base",
   "language": "python",
   "name": "python3"
  },
  "language_info": {
   "codemirror_mode": {
    "name": "ipython",
    "version": 3
   },
   "file_extension": ".py",
   "mimetype": "text/x-python",
   "name": "python",
   "nbconvert_exporter": "python",
   "pygments_lexer": "ipython3",
   "version": "3.8.12"
  },
  "orig_nbformat": 4
 },
 "nbformat": 4,
 "nbformat_minor": 2
}
